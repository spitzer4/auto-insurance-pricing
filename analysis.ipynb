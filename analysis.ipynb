{
 "cells": [
  {
   "cell_type": "code",
   "execution_count": 1,
   "id": "6ac07293-acae-43b2-921b-64f773c0cce6",
   "metadata": {},
   "outputs": [],
   "source": [
    "import numpy as np\n",
    "import pandas as pd\n",
    "import matplotlib.pyplot as plt\n",
    "import seaborn as sns\n",
    "import requests"
   ]
  },
  {
   "cell_type": "code",
   "execution_count": null,
   "id": "6c7151bb-5ee0-48d0-92dd-ee56bb6d94c1",
   "metadata": {},
   "outputs": [],
   "source": [
    "# Define the API endpoint\n",
    "api_url = 'https://api.openinsurance.io/endpoint'  # Replace with the actual endpoint\n",
    "\n",
    "# Set up headers, if required\n",
    "headers = {\n",
    "    'Authorization': 'Bearer YOUR_ACCESS_TOKEN',  # Replace with your access token if needed\n",
    "    'Content-Type': 'application/json'\n",
    "}\n",
    "\n",
    "# Make a GET request to the API\n",
    "response = requests.get(api_url, headers=headers)\n",
    "\n",
    "# Check the response status\n",
    "if response.status_code == 200:\n",
    "    data = response.json()\n",
    "    # Process the data as needed\n",
    "else:\n",
    "    print(f'Error: {response.status_code}')\n"
   ]
  }
 ],
 "metadata": {
  "kernelspec": {
   "display_name": "Python 3 (ipykernel)",
   "language": "python",
   "name": "python3"
  },
  "language_info": {
   "codemirror_mode": {
    "name": "ipython",
    "version": 3
   },
   "file_extension": ".py",
   "mimetype": "text/x-python",
   "name": "python",
   "nbconvert_exporter": "python",
   "pygments_lexer": "ipython3",
   "version": "3.12.9"
  }
 },
 "nbformat": 4,
 "nbformat_minor": 5
}
